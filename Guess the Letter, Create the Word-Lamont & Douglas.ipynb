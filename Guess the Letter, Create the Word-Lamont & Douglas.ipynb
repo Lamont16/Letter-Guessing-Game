{
 "cells": [
  {
   "cell_type": "markdown",
   "metadata": {},
   "source": [
    "**Create a Letter Guessing Game**\n",
    "\n",
    "Create a program that allows a user 7 chances to guess the correct word. If they do not guess the word after 7 tries, the player loses and the program will print the correct word. Otherwise, the play wins and the game.\n",
    "\n",
    "**How to build the program**\n",
    "* When you start the game, you will need to select a random word from a list of at least 10 words (You have full control over which words you want to use for you program). This will be your secret word. Your secret word will be represented in the program as a group of underscores. For as long as the word is, you should also have that many underscores. \n",
    "\n",
    "* Once the word is selected, your game will commence. Perform a Google search to figure out how to select a random word from a list using Python.<br>\n",
    "**Hint** There's package you can import into your application that does this for you.\n",
    "\n",
    "* The end user will have a total of 7 chances to guess the correct letter from the secret word. If the end user makes 7 incorrect guesses, the game will end.\n",
    "\n",
    "* As you guess the correct letters, the letters you have guess will then take place of the underscores that letter represents. <br>\n",
    "**For Example**: If your secret word is 'watermelon' and  so far you have guessed the letters 'a' and 'e', the word you're trying to guess will appear as follows: _ a _ e _ _ e _ _ _.<br>\n",
    "**Keep in mind** that if you guess a letter that appears more than once in your secret word, make sure that the letter is populated anywhere that letter would be."
   ]
  },
  {
   "cell_type": "code",
   "execution_count": null,
   "metadata": {},
   "outputs": [],
   "source": [
    "# 1. Make a program that selects a word from a list of words\n",
    "\n",
    "# 2. From each category, select a random word\n",
    "\n",
    "# 3. Accept user input that asks the user to type in a category\n",
    "\n",
    "# randomly_selected_word = \"orange\"\n",
    "\n",
    "# 4. _ _ _ _ _ _\n",
    "\n",
    "# 5. if you make a correct choice = \"o\" => o _ _ _ _ _\n",
    "\n",
    "\n",
    "# randomly_selected_word = \"watermelon\"\n",
    "\n",
    "# 6. _ _ _ _ _ _ _ _ _ _ _\n",
    "\n",
    "# 7. if you make a correct choice = \"e\" => _ _ _ e _ _ e _ _ _\n",
    "\n",
    "# 8. 7 attempts\n",
    "\n",
    "# 9. if you exhausted all 7 choices, show the correct word "
   ]
  },
  {
   "cell_type": "code",
   "execution_count": 1,
   "metadata": {},
   "outputs": [],
   "source": [
    "stuff = [\"mango\", 'pear', 'watermelon']\n",
    "\n",
    "immport random"
   ]
  },
  {
   "cell_type": "code",
   "execution_count": 26,
   "metadata": {},
   "outputs": [
    {
     "data": {
      "text/plain": [
       "'pear'"
      ]
     },
     "execution_count": 26,
     "metadata": {},
     "output_type": "execute_result"
    }
   ],
   "source": [
    "random.choice(stuff)"
   ]
  },
  {
   "cell_type": "code",
   "execution_count": 2,
   "metadata": {},
   "outputs": [
    {
     "name": "stdout",
     "output_type": "stream",
     "text": [
      "Would you like to play a game? Select Y/N. y\n",
      "_  _  _  _  _  _  Please guess a letter. w\n",
      "Please try again. \n",
      "You have 6 more guesses\n",
      "_  _  _  _  _  _  Please guess a letter. w\n",
      "Please try again. \n",
      "You have 5 more guesses\n",
      "_  _  _  _  _  _  Please guess a letter. w\n",
      "Please try again. \n",
      "You have 4 more guesses\n",
      "_  _  _  _  _  _  Please guess a letter. w\n",
      "Please try again. \n",
      "You have 3 more guesses\n",
      "_  _  _  _  _  _  Please guess a letter. w\n",
      "Please try again. \n",
      "You have 2 more guesses\n",
      "_  _  _  _  _  _  Please guess a letter. w\n",
      "Please try again. \n",
      "You have 1 more guesses\n",
      "_  _  _  _  _  _  Please guess a letter. w\n",
      "Please try again. \n",
      "You have 0 more guesses\n",
      "Sorry you loose. Play again? Select Y/N. y\n",
      "_  _  _  _  _  _  Please guess a letter. l\n",
      "Please try again. \n",
      "You have 6 more guesses\n",
      "_  _  _  _  _  _  Please guess a letter. a\n",
      "Please try again. \n",
      "You have 5 more guesses\n",
      "_  _  _  _  _  _  Please guess a letter. t\n",
      "Please try again. \n",
      "You have 4 more guesses\n",
      "_  _  _  _  _  _  Please guess a letter. e\n",
      "_  _  _  _  e _  Please guess a letter. c\n",
      "_  _  c c e _  Please guess a letter. o\n",
      "_  o c c e _  Please guess a letter. s\n",
      "s o c c e _  Please guess a letter. r\n",
      "s o c c e r You Win\n",
      "The word is: soccer\n",
      "Would you like to play again? Select Y/N. n\n"
     ]
    }
   ],
   "source": [
    "play = input('Would you like to play a game? Select Y/N. ').lower()\n",
    "if play == 'y':\n",
    "    pass\n",
    "def guessing_game():\n",
    "\n",
    "    \n",
    "    import random\n",
    "    words = ['tennis', 'football', 'videogames', 'playstation', 'basketball', 'soccer', 'coding', 'quesadilla', 'spagetti', 'lasagna']\n",
    "    word = random.choice(words)\n",
    "\n",
    "   \n",
    "    \n",
    "\n",
    "\n",
    "    turns = 7\n",
    "    guesses = ''\n",
    "   \n",
    "    done = False\n",
    "    while not done:\n",
    "        failed_try = 0\n",
    "        for letter in word:\n",
    "            if letter in guesses:\n",
    "                print(letter, end= \" \")\n",
    "            else:\n",
    "                print(\"_ \", end=\" \") \n",
    "                failed_try += 1\n",
    "        if failed_try == 0:\n",
    "            print(\"You Win\")\n",
    "            print(\"The word is:\", word)\n",
    "            new_game = input('Would you like to play again? Select Y/N. ').lower()\n",
    "            if new_game == 'y':\n",
    "                guessing_game()\n",
    "            else:\n",
    "                done = True\n",
    "            return\n",
    "        guess = input('Please guess a letter. ')\n",
    "        guesses += guess\n",
    "        \n",
    "        \n",
    "        if guess not in word:\n",
    "            print(\"Please try again. \")\n",
    "            turns -= 1\n",
    "            print(\"You have\", + turns, \"more guesses\")\n",
    "            \n",
    "                \n",
    "        if turns == 0:\n",
    "            end_game = input(\"Sorry you loose. Play again? Select Y/N. \").lower()\n",
    "            if end_game == 'y':\n",
    "                guessing_game()\n",
    "            elif end_game == 'n':\n",
    "                done = True\n",
    "        \n",
    "            return\n",
    "          \n",
    "guessing_game()\n"
   ]
  },
  {
   "cell_type": "code",
   "execution_count": null,
   "metadata": {},
   "outputs": [],
   "source": [
    "\n"
   ]
  },
  {
   "cell_type": "code",
   "execution_count": null,
   "metadata": {},
   "outputs": [],
   "source": []
  }
 ],
 "metadata": {
  "kernelspec": {
   "display_name": "Python 3 (ipykernel)",
   "language": "python",
   "name": "python3"
  },
  "language_info": {
   "codemirror_mode": {
    "name": "ipython",
    "version": 3
   },
   "file_extension": ".py",
   "mimetype": "text/x-python",
   "name": "python",
   "nbconvert_exporter": "python",
   "pygments_lexer": "ipython3",
   "version": "3.9.7"
  }
 },
 "nbformat": 4,
 "nbformat_minor": 2
}
